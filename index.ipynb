{
 "cells": [
  {
   "cell_type": "markdown",
   "metadata": {},
   "source": [
    "# Image Recognition with PCA - Lab\n",
    "\n",
    "## Introduction\n",
    "\n",
    "In this lab, you'll explore the classic MNIST dataset of handwritten digits. While not as large as the previous dataset on facial image recognition, it still provides a 64-dimensional dataset that is ripe for feature reduction.\n",
    "\n",
    "## Objectives\n",
    "\n",
    "In this lab you will: \n",
    "\n",
    "- Use PCA to discover the principal components with images \n",
    "- Use the principal components of  a dataset as features in a machine learning model \n",
    "- Calculate the time savings and performance gains of layering in PCA as a preprocessing step in machine learning pipelines "
   ]
  },
  {
   "cell_type": "markdown",
   "metadata": {},
   "source": [
    "## Load the data\n",
    "\n",
    "Load the `load_digits` dataset from the `datasets` module of scikit-learn. "
   ]
  },
  {
   "cell_type": "code",
   "execution_count": 1,
   "metadata": {},
   "outputs": [
    {
     "name": "stdout",
     "output_type": "stream",
     "text": [
      "(1797, 64) (1797,)\n"
     ]
    }
   ],
   "source": [
    "# Load the dataset\n",
    "from sklearn.datasets import load_digits\n",
    "data = load_digits()\n",
    "print(data.data.shape, data.target.shape)"
   ]
  },
  {
   "cell_type": "markdown",
   "metadata": {},
   "source": [
    "## Preview the dataset\n",
    "\n",
    "Now that the dataset is loaded, display the first 20 images."
   ]
  },
  {
   "cell_type": "code",
   "execution_count": 11,
   "metadata": {},
   "outputs": [
    {
     "data": {
      "text/plain": [
       "Text(0.5, 1.0, 'First 20 Images From the MNIST Dataset')"
      ]
     },
     "execution_count": 11,
     "metadata": {},
     "output_type": "execute_result"
    },
    {
     "data": {
      "image/png": "[encoded data removed]",
      "text/plain": [
       "<Figure size 720x720 with 20 Axes>"
      ]
     },
     "metadata": {
      "needs_background": "light"
     },
     "output_type": "display_data"
    }
   ],
   "source": [
    "# Display the first 20 images \n",
    "import matplotlib.pyplot as plt\n",
    "\n",
    "fig, axes = plt.subplots(nrows=4, ncols=5, figsize=(10,10))\n",
    "\n",
    "for n in range(0,20):\n",
    "    ax = axes[n//5][n%5]\n",
    "    ax.imshow(data.images[n], cmap = \"gray\")\n",
    "plt.title(\"First 20 Images From the MNIST Dataset\")\n",
    "\n"
   ]
  },
  {
   "cell_type": "markdown",
   "metadata": {},
   "source": [
    "## Baseline model\n",
    "\n",
    "Now it's time to fit an initial baseline model. \n",
    "\n",
    "- Split the data into training and test sets. Set `random_state=22` \n",
    "- Fit a support vector machine to the dataset. Set `gamma='auto'` \n",
    "- Record the training time \n",
    "- Print the training and test accucary of the model "
   ]
  },
  {
   "cell_type": "code",
   "execution_count": 12,
   "metadata": {},
   "outputs": [
    {
     "name": "stdout",
     "output_type": "stream",
     "text": [
      "(1347, 64) (450, 64) (1347,) (450,)\n"
     ]
    }
   ],
   "source": [
    "# Split the data\n",
    "from sklearn.model_selection import train_test_split\n",
    "\n",
    "\n",
    "X = data.data\n",
    "y = data.target\n",
    "X_train, X_test, y_train, y_test = train_test_split(X,y, random_state = 22)\n",
    "print(X_train.shape, X_test.shape, y_train.shape, y_test.shape)"
   ]
  },
  {
   "cell_type": "code",
   "execution_count": 14,
   "metadata": {},
   "outputs": [
    {
     "name": "stdout",
     "output_type": "stream",
     "text": [
      "259 ms ± 2.55 ms per loop (mean ± std. dev. of 7 runs, 1 loop each)\n"
     ]
    }
   ],
   "source": [
    "# Fit a naive model \n",
    "from sklearn import svm\n",
    "clf = svm.SVC(gamma='auto')\n",
    "%timeit  clf.fit(X_train, y_train)\n"
   ]
  },
  {
   "cell_type": "code",
   "execution_count": 15,
   "metadata": {},
   "outputs": [
    {
     "name": "stdout",
     "output_type": "stream",
     "text": [
      "Training Accuracy: 1.0\n",
      "Testing Accuracy: 0.58\n"
     ]
    }
   ],
   "source": [
    "# Training and test accuracy\n",
    "train_acc = clf.score(X_train, y_train)\n",
    "test_acc = clf.score(X_test, y_test)\n",
    "print('Training Accuracy: {}\\nTesting Accuracy: {}'.format(train_acc, test_acc))"
   ]
  },
  {
   "cell_type": "markdown",
   "metadata": {},
   "source": [
    "### Grid search baseline\n",
    "\n",
    "Refine the initial model by performing a grid search to tune the hyperparameters. The two most important parameters to adjust are `'C'` and `'gamma'`. Once again, be sure to record the training time as well as the training and test accuracy."
   ]
  },
  {
   "cell_type": "code",
   "execution_count": 16,
   "metadata": {},
   "outputs": [
    {
     "name": "stdout",
     "output_type": "stream",
     "text": [
      "11 s ± 41.2 ms per loop (mean ± std. dev. of 7 runs, 1 loop each)\n"
     ]
    }
   ],
   "source": [
    "# Your code here\n",
    "# ⏰ Your code may take several minutes to run\n",
    "from sklearn.model_selection import GridSearchCV\n",
    "\n",
    "clf_II = svm.SVC()\n",
    "\n",
    "params = {\"C\":[0.1, 2, 5, 10],\n",
    "         \"gamma\" : [10**-3, 10**-1, 5]}\n",
    "\n",
    "grid_clf = GridSearchCV(estimator = clf_II,param_grid = params, cv = 5)\n",
    "\n",
    "%timeit grid_clf.fit(X_train, y_train)"
   ]
  },
  {
   "cell_type": "code",
   "execution_count": 17,
   "metadata": {},
   "outputs": [
    {
     "data": {
      "text/plain": [
       "{'C': 2, 'gamma': 0.001}"
      ]
     },
     "execution_count": 17,
     "metadata": {},
     "output_type": "execute_result"
    }
   ],
   "source": [
    "# Print the best parameters \n",
    "grid_clf.best_params_"
   ]
  },
  {
   "cell_type": "code",
   "execution_count": 19,
   "metadata": {},
   "outputs": [
    {
     "name": "stdout",
     "output_type": "stream",
     "text": [
      "Training Accuracy: 1.0\tTesting Accuracy: 0.9911111111111112\n"
     ]
    }
   ],
   "source": [
    "# Print the training and test accuracy \n",
    "train_acc = grid_clf.best_estimator_.score(X_train, y_train)\n",
    "test_acc = grid_clf.best_estimator_.score(X_test, y_test)\n",
    "print('Training Accuracy: {}\\tTesting Accuracy: {}'.format(train_acc, test_acc))\n",
    "\n"
   ]
  },
  {
   "cell_type": "code",
   "execution_count": 21,
   "metadata": {},
   "outputs": [
    {
     "data": {
      "text/html": [
       "<div>\n",
       "<style scoped>\n",
       "    .dataframe tbody tr th:only-of-type {\n",
       "        vertical-align: middle;\n",
       "    }\n",
       "\n",
       "    .dataframe tbody tr th {\n",
       "        vertical-align: top;\n",
       "    }\n",
       "\n",
       "    .dataframe thead th {\n",
       "        text-align: right;\n",
       "    }\n",
       "</style>\n",
       "<table border=\"1\" class=\"dataframe\">\n",
       "  <thead>\n",
       "    <tr style=\"text-align: right;\">\n",
       "      <th></th>\n",
       "      <th>mean_fit_time</th>\n",
       "      <th>std_fit_time</th>\n",
       "      <th>mean_score_time</th>\n",
       "      <th>std_score_time</th>\n",
       "      <th>param_C</th>\n",
       "      <th>param_gamma</th>\n",
       "      <th>params</th>\n",
       "      <th>split0_test_score</th>\n",
       "      <th>split1_test_score</th>\n",
       "      <th>split2_test_score</th>\n",
       "      <th>split3_test_score</th>\n",
       "      <th>split4_test_score</th>\n",
       "      <th>mean_test_score</th>\n",
       "      <th>std_test_score</th>\n",
       "      <th>rank_test_score</th>\n",
       "    </tr>\n",
       "  </thead>\n",
       "  <tbody>\n",
       "    <tr>\n",
       "      <th>0</th>\n",
       "      <td>0.085570</td>\n",
       "      <td>0.000236</td>\n",
       "      <td>0.057578</td>\n",
       "      <td>0.003867</td>\n",
       "      <td>0.1</td>\n",
       "      <td>0.001</td>\n",
       "      <td>{'C': 0.1, 'gamma': 0.001}</td>\n",
       "      <td>0.940741</td>\n",
       "      <td>0.962963</td>\n",
       "      <td>0.973978</td>\n",
       "      <td>0.955390</td>\n",
       "      <td>0.955390</td>\n",
       "      <td>0.957692</td>\n",
       "      <td>0.010871</td>\n",
       "      <td>4</td>\n",
       "    </tr>\n",
       "    <tr>\n",
       "      <th>1</th>\n",
       "      <td>0.171951</td>\n",
       "      <td>0.000297</td>\n",
       "      <td>0.073765</td>\n",
       "      <td>0.002019</td>\n",
       "      <td>0.1</td>\n",
       "      <td>0.1</td>\n",
       "      <td>{'C': 0.1, 'gamma': 0.1}</td>\n",
       "      <td>0.107407</td>\n",
       "      <td>0.103704</td>\n",
       "      <td>0.104089</td>\n",
       "      <td>0.107807</td>\n",
       "      <td>0.107807</td>\n",
       "      <td>0.106163</td>\n",
       "      <td>0.001860</td>\n",
       "      <td>5</td>\n",
       "    </tr>\n",
       "    <tr>\n",
       "      <th>2</th>\n",
       "      <td>0.106200</td>\n",
       "      <td>0.000685</td>\n",
       "      <td>0.063726</td>\n",
       "      <td>0.005890</td>\n",
       "      <td>0.1</td>\n",
       "      <td>5</td>\n",
       "      <td>{'C': 0.1, 'gamma': 5}</td>\n",
       "      <td>0.107407</td>\n",
       "      <td>0.103704</td>\n",
       "      <td>0.104089</td>\n",
       "      <td>0.107807</td>\n",
       "      <td>0.107807</td>\n",
       "      <td>0.106163</td>\n",
       "      <td>0.001860</td>\n",
       "      <td>5</td>\n",
       "    </tr>\n",
       "    <tr>\n",
       "      <th>3</th>\n",
       "      <td>0.048678</td>\n",
       "      <td>0.000365</td>\n",
       "      <td>0.035844</td>\n",
       "      <td>0.002544</td>\n",
       "      <td>2</td>\n",
       "      <td>0.001</td>\n",
       "      <td>{'C': 2, 'gamma': 0.001}</td>\n",
       "      <td>0.988889</td>\n",
       "      <td>0.992593</td>\n",
       "      <td>0.992565</td>\n",
       "      <td>0.996283</td>\n",
       "      <td>0.985130</td>\n",
       "      <td>0.991092</td>\n",
       "      <td>0.003788</td>\n",
       "      <td>1</td>\n",
       "    </tr>\n",
       "    <tr>\n",
       "      <th>4</th>\n",
       "      <td>0.203174</td>\n",
       "      <td>0.001251</td>\n",
       "      <td>0.062820</td>\n",
       "      <td>0.004415</td>\n",
       "      <td>2</td>\n",
       "      <td>0.1</td>\n",
       "      <td>{'C': 2, 'gamma': 0.1}</td>\n",
       "      <td>0.107407</td>\n",
       "      <td>0.103704</td>\n",
       "      <td>0.104089</td>\n",
       "      <td>0.107807</td>\n",
       "      <td>0.107807</td>\n",
       "      <td>0.106163</td>\n",
       "      <td>0.001860</td>\n",
       "      <td>5</td>\n",
       "    </tr>\n",
       "    <tr>\n",
       "      <th>5</th>\n",
       "      <td>0.125507</td>\n",
       "      <td>0.000598</td>\n",
       "      <td>0.063172</td>\n",
       "      <td>0.006663</td>\n",
       "      <td>2</td>\n",
       "      <td>5</td>\n",
       "      <td>{'C': 2, 'gamma': 5}</td>\n",
       "      <td>0.107407</td>\n",
       "      <td>0.103704</td>\n",
       "      <td>0.104089</td>\n",
       "      <td>0.107807</td>\n",
       "      <td>0.107807</td>\n",
       "      <td>0.106163</td>\n",
       "      <td>0.001860</td>\n",
       "      <td>5</td>\n",
       "    </tr>\n",
       "    <tr>\n",
       "      <th>6</th>\n",
       "      <td>0.048609</td>\n",
       "      <td>0.000604</td>\n",
       "      <td>0.032762</td>\n",
       "      <td>0.000557</td>\n",
       "      <td>5</td>\n",
       "      <td>0.001</td>\n",
       "      <td>{'C': 5, 'gamma': 0.001}</td>\n",
       "      <td>0.988889</td>\n",
       "      <td>0.992593</td>\n",
       "      <td>0.992565</td>\n",
       "      <td>0.996283</td>\n",
       "      <td>0.985130</td>\n",
       "      <td>0.991092</td>\n",
       "      <td>0.003788</td>\n",
       "      <td>1</td>\n",
       "    </tr>\n",
       "    <tr>\n",
       "      <th>7</th>\n",
       "      <td>0.202286</td>\n",
       "      <td>0.000645</td>\n",
       "      <td>0.070390</td>\n",
       "      <td>0.004514</td>\n",
       "      <td>5</td>\n",
       "      <td>0.1</td>\n",
       "      <td>{'C': 5, 'gamma': 0.1}</td>\n",
       "      <td>0.107407</td>\n",
       "      <td>0.103704</td>\n",
       "      <td>0.104089</td>\n",
       "      <td>0.107807</td>\n",
       "      <td>0.107807</td>\n",
       "      <td>0.106163</td>\n",
       "      <td>0.001860</td>\n",
       "      <td>5</td>\n",
       "    </tr>\n",
       "    <tr>\n",
       "      <th>8</th>\n",
       "      <td>0.125291</td>\n",
       "      <td>0.000631</td>\n",
       "      <td>0.067550</td>\n",
       "      <td>0.002296</td>\n",
       "      <td>5</td>\n",
       "      <td>5</td>\n",
       "      <td>{'C': 5, 'gamma': 5}</td>\n",
       "      <td>0.107407</td>\n",
       "      <td>0.103704</td>\n",
       "      <td>0.104089</td>\n",
       "      <td>0.107807</td>\n",
       "      <td>0.107807</td>\n",
       "      <td>0.106163</td>\n",
       "      <td>0.001860</td>\n",
       "      <td>5</td>\n",
       "    </tr>\n",
       "    <tr>\n",
       "      <th>9</th>\n",
       "      <td>0.048551</td>\n",
       "      <td>0.000400</td>\n",
       "      <td>0.038358</td>\n",
       "      <td>0.000618</td>\n",
       "      <td>10</td>\n",
       "      <td>0.001</td>\n",
       "      <td>{'C': 10, 'gamma': 0.001}</td>\n",
       "      <td>0.988889</td>\n",
       "      <td>0.992593</td>\n",
       "      <td>0.992565</td>\n",
       "      <td>0.996283</td>\n",
       "      <td>0.985130</td>\n",
       "      <td>0.991092</td>\n",
       "      <td>0.003788</td>\n",
       "      <td>1</td>\n",
       "    </tr>\n",
       "    <tr>\n",
       "      <th>10</th>\n",
       "      <td>0.202233</td>\n",
       "      <td>0.001086</td>\n",
       "      <td>0.063226</td>\n",
       "      <td>0.002653</td>\n",
       "      <td>10</td>\n",
       "      <td>0.1</td>\n",
       "      <td>{'C': 10, 'gamma': 0.1}</td>\n",
       "      <td>0.107407</td>\n",
       "      <td>0.103704</td>\n",
       "      <td>0.104089</td>\n",
       "      <td>0.107807</td>\n",
       "      <td>0.107807</td>\n",
       "      <td>0.106163</td>\n",
       "      <td>0.001860</td>\n",
       "      <td>5</td>\n",
       "    </tr>\n",
       "    <tr>\n",
       "      <th>11</th>\n",
       "      <td>0.125704</td>\n",
       "      <td>0.000866</td>\n",
       "      <td>0.067391</td>\n",
       "      <td>0.001419</td>\n",
       "      <td>10</td>\n",
       "      <td>5</td>\n",
       "      <td>{'C': 10, 'gamma': 5}</td>\n",
       "      <td>0.107407</td>\n",
       "      <td>0.103704</td>\n",
       "      <td>0.104089</td>\n",
       "      <td>0.107807</td>\n",
       "      <td>0.107807</td>\n",
       "      <td>0.106163</td>\n",
       "      <td>0.001860</td>\n",
       "      <td>5</td>\n",
       "    </tr>\n",
       "  </tbody>\n",
       "</table>\n",
       "</div>"
      ],
      "text/plain": [
       "    mean_fit_time  std_fit_time  mean_score_time  std_score_time param_C  \\\n",
       "0        0.085570      0.000236         0.057578        0.003867     0.1   \n",
       "1        0.171951      0.000297         0.073765        0.002019     0.1   \n",
       "2        0.106200      0.000685         0.063726        0.005890     0.1   \n",
       "3        0.048678      0.000365         0.035844        0.002544       2   \n",
       "4        0.203174      0.001251         0.062820        0.004415       2   \n",
       "5        0.125507      0.000598         0.063172        0.006663       2   \n",
       "6        0.048609      0.000604         0.032762        0.000557       5   \n",
       "7        0.202286      0.000645         0.070390        0.004514       5   \n",
       "8        0.125291      0.000631         0.067550        0.002296       5   \n",
       "9        0.048551      0.000400         0.038358        0.000618      10   \n",
       "10       0.202233      0.001086         0.063226        0.002653      10   \n",
       "11       0.125704      0.000866         0.067391        0.001419      10   \n",
       "\n",
       "   param_gamma                      params  split0_test_score  \\\n",
       "0        0.001  {'C': 0.1, 'gamma': 0.001}           0.940741   \n",
       "1          0.1    {'C': 0.1, 'gamma': 0.1}           0.107407   \n",
       "2            5      {'C': 0.1, 'gamma': 5}           0.107407   \n",
       "3        0.001    {'C': 2, 'gamma': 0.001}           0.988889   \n",
       "4          0.1      {'C': 2, 'gamma': 0.1}           0.107407   \n",
       "5            5        {'C': 2, 'gamma': 5}           0.107407   \n",
       "6        0.001    {'C': 5, 'gamma': 0.001}           0.988889   \n",
       "7          0.1      {'C': 5, 'gamma': 0.1}           0.107407   \n",
       "8            5        {'C': 5, 'gamma': 5}           0.107407   \n",
       "9        0.001   {'C': 10, 'gamma': 0.001}           0.988889   \n",
       "10         0.1     {'C': 10, 'gamma': 0.1}           0.107407   \n",
       "11           5       {'C': 10, 'gamma': 5}           0.107407   \n",
       "\n",
       "    split1_test_score  split2_test_score  split3_test_score  \\\n",
       "0            0.962963           0.973978           0.955390   \n",
       "1            0.103704           0.104089           0.107807   \n",
       "2            0.103704           0.104089           0.107807   \n",
       "3            0.992593           0.992565           0.996283   \n",
       "4            0.103704           0.104089           0.107807   \n",
       "5            0.103704           0.104089           0.107807   \n",
       "6            0.992593           0.992565           0.996283   \n",
       "7            0.103704           0.104089           0.107807   \n",
       "8            0.103704           0.104089           0.107807   \n",
       "9            0.992593           0.992565           0.996283   \n",
       "10           0.103704           0.104089           0.107807   \n",
       "11           0.103704           0.104089           0.107807   \n",
       "\n",
       "    split4_test_score  mean_test_score  std_test_score  rank_test_score  \n",
       "0            0.955390         0.957692        0.010871                4  \n",
       "1            0.107807         0.106163        0.001860                5  \n",
       "2            0.107807         0.106163        0.001860                5  \n",
       "3            0.985130         0.991092        0.003788                1  \n",
       "4            0.107807         0.106163        0.001860                5  \n",
       "5            0.107807         0.106163        0.001860                5  \n",
       "6            0.985130         0.991092        0.003788                1  \n",
       "7            0.107807         0.106163        0.001860                5  \n",
       "8            0.107807         0.106163        0.001860                5  \n",
       "9            0.985130         0.991092        0.003788                1  \n",
       "10           0.107807         0.106163        0.001860                5  \n",
       "11           0.107807         0.106163        0.001860                5  "
      ]
     },
     "execution_count": 21,
     "metadata": {},
     "output_type": "execute_result"
    }
   ],
   "source": [
    "import pandas as pd\n",
    "\n",
    "pd.DataFrame(grid_clf.cv_results_)"
   ]
  },
  {
   "cell_type": "markdown",
   "metadata": {},
   "source": [
    "## Compressing with PCA\n",
    "\n",
    "Now that you've fit a baseline classifier, it's time to explore the impacts of using PCA as a preprocessing technique. To start, perform PCA on `X_train`. (Be sure to only fit PCA to `X_train`; you don't want to leak any information from the test set.) Also, don't reduce the number of features quite yet. You'll determine the number of features needed to account for 95% of the overall variance momentarily."
   ]
  },
  {
   "cell_type": "code",
   "execution_count": 31,
   "metadata": {},
   "outputs": [
    {
     "data": {
      "text/plain": [
       "0.9593119979453406"
      ]
     },
     "execution_count": 31,
     "metadata": {},
     "output_type": "execute_result"
    }
   ],
   "source": [
    "# Your code here\n",
    "from sklearn.decomposition import PCA\n",
    "pca = PCA(n_components = 30)\n",
    "pca.fit_transform(X_train)\n",
    "\n",
    "sum(pca.explained_variance_ratio_)"
   ]
  },
  {
   "cell_type": "markdown",
   "metadata": {},
   "source": [
    "## Plot the explained variance versus the number of features\n",
    "\n",
    "In order to determine the number of features you wish to reduce the dataset to, it is sensible to plot the overall variance accounted for by the first $n$ principal components. Create a graph of the variance explained versus the number of principal components."
   ]
  },
  {
   "cell_type": "code",
   "execution_count": 40,
   "metadata": {},
   "outputs": [
    {
     "data": {
      "image/png": "[encoded data removed]",
      "text/plain": [
       "<Figure size 432x288 with 1 Axes>"
      ]
     },
     "metadata": {
      "needs_background": "light"
     },
     "output_type": "display_data"
    }
   ],
   "source": [
    "# Your code here\n",
    "l = []\n",
    "for i in range(1, 65):\n",
    "    pca = PCA(n_components = i)\n",
    "    pca.fit_transform(X_train)\n",
    "    l.append(sum(pca.explained_variance_ratio_))\n",
    "    \n",
    "plt.plot(range(1, 65), l);"
   ]
  },
  {
   "cell_type": "code",
   "execution_count": 41,
   "metadata": {},
   "outputs": [
    {
     "data": {
      "image/png": "[encoded data removed]",
      "text/plain": [
       "<Figure size 432x288 with 1 Axes>"
      ]
     },
     "metadata": {
      "needs_background": "light"
     },
     "output_type": "display_data"
    }
   ],
   "source": [
    "### G\n",
    "\n",
    "pca = PCA()\n",
    "pca.fit_transform(X_train)\n",
    "\n",
    "plt.plot(range(1,65), pca.explained_variance_ratio_.cumsum());"
   ]
  },
  {
   "cell_type": "markdown",
   "metadata": {},
   "source": [
    "## Determine the number of features to capture 95% of the variance\n",
    "\n",
    "Great! Now determine the number of features needed to capture 95% of the dataset's overall variance."
   ]
  },
  {
   "cell_type": "code",
   "execution_count": 44,
   "metadata": {},
   "outputs": [
    {
     "name": "stdout",
     "output_type": "stream",
     "text": [
      "29\n",
      "0.9549599978745522\n"
     ]
    }
   ],
   "source": [
    "# Your code here\n",
    "for i in range(1, 65):\n",
    "    pca = PCA(n_components = i)\n",
    "    pca.fit_transform(X_train)\n",
    "    if sum(pca.explained_variance_ratio_) >= 0.95:\n",
    "        print(i)\n",
    "        print(sum(pca.explained_variance_ratio_))\n",
    "        break\n"
   ]
  },
  {
   "cell_type": "code",
   "execution_count": 47,
   "metadata": {},
   "outputs": [
    {
     "name": "stdout",
     "output_type": "stream",
     "text": [
      "Number features: 29\tTotal Variance Explained: 0.9549611953216072\n"
     ]
    }
   ],
   "source": [
    "## G\n",
    "pca = PCA()\n",
    "pca.fit_transform(X_train)\n",
    "\n",
    "total_explained_variance = pca.explained_variance_ratio_.cumsum()\n",
    "n_over_95 = len(total_explained_variance[total_explained_variance >= .95])\n",
    "n_to_reach_95 = X.shape[1] - n_over_95 + 1\n",
    "\n",
    "print(\"Number features: {}\\tTotal Variance Explained: {}\".format(\n",
    "    n_to_reach_95,\n",
    " total_explained_variance[n_to_reach_95-1]))"
   ]
  },
  {
   "cell_type": "markdown",
   "metadata": {},
   "source": [
    "## Subset the dataset to these principal components which capture 95% of the overall variance\n",
    "\n",
    "Use your knowledge to reproject the dataset into a lower-dimensional space using PCA. "
   ]
  },
  {
   "cell_type": "code",
   "execution_count": 55,
   "metadata": {},
   "outputs": [
    {
     "data": {
      "text/plain": [
       "0.9549478401811489"
      ]
     },
     "execution_count": 55,
     "metadata": {},
     "output_type": "execute_result"
    }
   ],
   "source": [
    "# Your code here\n",
    "pca_95 = PCA(n_components = 29)\n",
    "X_train_pca = pca_95.fit_transform(X_train)\n",
    "\n",
    "pca_95.explained_variance_ratio_.cumsum()[-1]"
   ]
  },
  {
   "cell_type": "markdown",
   "metadata": {},
   "source": [
    "## Refit a model on the compressed dataset\n",
    "\n",
    "Now, refit a classification model to the compressed dataset. Be sure to time the required training time, as well as the test and training accuracy."
   ]
  },
  {
   "cell_type": "code",
   "execution_count": 56,
   "metadata": {},
   "outputs": [
    {
     "name": "stdout",
     "output_type": "stream",
     "text": [
      "359 ms ± 4.07 ms per loop (mean ± std. dev. of 7 runs, 1 loop each)\n",
      "Training Accuracy: 1.0\n",
      "Testing Accuracy: 0.14888888888888888\n"
     ]
    }
   ],
   "source": [
    "# Your code here\n",
    "X_test_pca = pca_95.transform(X_test)\n",
    "clf = svm.SVC(gamma='auto')\n",
    "%timeit clf.fit(X_train_pca, y_train)\n",
    "\n",
    "train_acc = clf.score(X_train_pca, y_train)\n",
    "test_acc = clf.score(X_test_pca, y_test)\n",
    "print('Training Accuracy: {}\\nTesting Accuracy: {}'.format(train_acc, test_acc))"
   ]
  },
  {
   "cell_type": "markdown",
   "metadata": {},
   "source": [
    "### Grid search\n",
    "\n",
    "Finally, use grid search to find optimal hyperparameters for the classifier on the reduced dataset. Be sure to record the time required to fit the model, the optimal hyperparameters and the test and train accuracy of the resulting model."
   ]
  },
  {
   "cell_type": "code",
   "execution_count": 59,
   "metadata": {},
   "outputs": [
    {
     "name": "stdout",
     "output_type": "stream",
     "text": [
      "10.2 s ± 101 ms per loop (mean ± std. dev. of 7 runs, 1 loop each)\n"
     ]
    }
   ],
   "source": [
    "# Your code here\n",
    "# ⏰ Your code may take several minutes to run\n",
    "\n",
    "from sklearn.model_selection import GridSearchCV\n",
    "\n",
    "clf_pca = svm.SVC()\n",
    "\n",
    "params = {\"C\":[0.1, 2, 5, 10],\n",
    "         \"gamma\" : [10**-3, 10**-1, 5]}\n",
    "\n",
    "grid_pca = GridSearchCV(estimator = clf_pca,param_grid = params, cv = 5)\n",
    "\n",
    "%timeit grid_pca.fit(X_train_pca, y_train)"
   ]
  },
  {
   "cell_type": "code",
   "execution_count": 60,
   "metadata": {},
   "outputs": [
    {
     "data": {
      "text/plain": [
       "{'C': 2, 'gamma': 0.001}"
      ]
     },
     "execution_count": 60,
     "metadata": {},
     "output_type": "execute_result"
    }
   ],
   "source": [
    "# Print the best parameters \n",
    "grid_pca.best_params_"
   ]
  },
  {
   "cell_type": "code",
   "execution_count": 61,
   "metadata": {},
   "outputs": [
    {
     "name": "stdout",
     "output_type": "stream",
     "text": [
      "Training Accuracy: 0.9992576095025983\tTesting Accuracy: 0.9933333333333333\n"
     ]
    }
   ],
   "source": [
    "# Print the training and test accuracy \n",
    "train_acc = grid_pca.best_estimator_.score(X_train_pca, y_train)\n",
    "test_acc = grid_pca.best_estimator_.score(X_test_pca, y_test)\n",
    "print('Training Accuracy: {}\\tTesting Accuracy: {}'.format(train_acc, test_acc))"
   ]
  },
  {
   "cell_type": "code",
   "execution_count": 62,
   "metadata": {},
   "outputs": [
    {
     "data": {
      "text/html": [
       "<div>\n",
       "<style scoped>\n",
       "    .dataframe tbody tr th:only-of-type {\n",
       "        vertical-align: middle;\n",
       "    }\n",
       "\n",
       "    .dataframe tbody tr th {\n",
       "        vertical-align: top;\n",
       "    }\n",
       "\n",
       "    .dataframe thead th {\n",
       "        text-align: right;\n",
       "    }\n",
       "</style>\n",
       "<table border=\"1\" class=\"dataframe\">\n",
       "  <thead>\n",
       "    <tr style=\"text-align: right;\">\n",
       "      <th></th>\n",
       "      <th>mean_fit_time</th>\n",
       "      <th>std_fit_time</th>\n",
       "      <th>mean_score_time</th>\n",
       "      <th>std_score_time</th>\n",
       "      <th>param_C</th>\n",
       "      <th>param_gamma</th>\n",
       "      <th>params</th>\n",
       "      <th>split0_test_score</th>\n",
       "      <th>split1_test_score</th>\n",
       "      <th>split2_test_score</th>\n",
       "      <th>split3_test_score</th>\n",
       "      <th>split4_test_score</th>\n",
       "      <th>mean_test_score</th>\n",
       "      <th>std_test_score</th>\n",
       "      <th>rank_test_score</th>\n",
       "    </tr>\n",
       "  </thead>\n",
       "  <tbody>\n",
       "    <tr>\n",
       "      <th>0</th>\n",
       "      <td>0.087398</td>\n",
       "      <td>0.000533</td>\n",
       "      <td>0.033708</td>\n",
       "      <td>0.000162</td>\n",
       "      <td>0.1</td>\n",
       "      <td>0.001</td>\n",
       "      <td>{'C': 0.1, 'gamma': 0.001}</td>\n",
       "      <td>0.937037</td>\n",
       "      <td>0.962963</td>\n",
       "      <td>0.970260</td>\n",
       "      <td>0.955390</td>\n",
       "      <td>0.955390</td>\n",
       "      <td>0.956208</td>\n",
       "      <td>0.011063</td>\n",
       "      <td>4</td>\n",
       "    </tr>\n",
       "    <tr>\n",
       "      <th>1</th>\n",
       "      <td>0.184407</td>\n",
       "      <td>0.000568</td>\n",
       "      <td>0.042522</td>\n",
       "      <td>0.000555</td>\n",
       "      <td>0.1</td>\n",
       "      <td>0.1</td>\n",
       "      <td>{'C': 0.1, 'gamma': 0.1}</td>\n",
       "      <td>0.107407</td>\n",
       "      <td>0.103704</td>\n",
       "      <td>0.104089</td>\n",
       "      <td>0.107807</td>\n",
       "      <td>0.107807</td>\n",
       "      <td>0.106163</td>\n",
       "      <td>0.001860</td>\n",
       "      <td>5</td>\n",
       "    </tr>\n",
       "    <tr>\n",
       "      <th>2</th>\n",
       "      <td>0.117606</td>\n",
       "      <td>0.000303</td>\n",
       "      <td>0.041518</td>\n",
       "      <td>0.000271</td>\n",
       "      <td>0.1</td>\n",
       "      <td>5</td>\n",
       "      <td>{'C': 0.1, 'gamma': 5}</td>\n",
       "      <td>0.107407</td>\n",
       "      <td>0.103704</td>\n",
       "      <td>0.104089</td>\n",
       "      <td>0.107807</td>\n",
       "      <td>0.107807</td>\n",
       "      <td>0.106163</td>\n",
       "      <td>0.001860</td>\n",
       "      <td>5</td>\n",
       "    </tr>\n",
       "    <tr>\n",
       "      <th>3</th>\n",
       "      <td>0.046305</td>\n",
       "      <td>0.000918</td>\n",
       "      <td>0.020814</td>\n",
       "      <td>0.000459</td>\n",
       "      <td>2</td>\n",
       "      <td>0.001</td>\n",
       "      <td>{'C': 2, 'gamma': 0.001}</td>\n",
       "      <td>0.985185</td>\n",
       "      <td>0.996296</td>\n",
       "      <td>0.992565</td>\n",
       "      <td>0.992565</td>\n",
       "      <td>0.985130</td>\n",
       "      <td>0.990348</td>\n",
       "      <td>0.004452</td>\n",
       "      <td>1</td>\n",
       "    </tr>\n",
       "    <tr>\n",
       "      <th>4</th>\n",
       "      <td>0.216145</td>\n",
       "      <td>0.001558</td>\n",
       "      <td>0.042504</td>\n",
       "      <td>0.000640</td>\n",
       "      <td>2</td>\n",
       "      <td>0.1</td>\n",
       "      <td>{'C': 2, 'gamma': 0.1}</td>\n",
       "      <td>0.107407</td>\n",
       "      <td>0.103704</td>\n",
       "      <td>0.104089</td>\n",
       "      <td>0.107807</td>\n",
       "      <td>0.107807</td>\n",
       "      <td>0.106163</td>\n",
       "      <td>0.001860</td>\n",
       "      <td>5</td>\n",
       "    </tr>\n",
       "    <tr>\n",
       "      <th>5</th>\n",
       "      <td>0.137185</td>\n",
       "      <td>0.000816</td>\n",
       "      <td>0.042400</td>\n",
       "      <td>0.001102</td>\n",
       "      <td>2</td>\n",
       "      <td>5</td>\n",
       "      <td>{'C': 2, 'gamma': 5}</td>\n",
       "      <td>0.107407</td>\n",
       "      <td>0.103704</td>\n",
       "      <td>0.104089</td>\n",
       "      <td>0.107807</td>\n",
       "      <td>0.107807</td>\n",
       "      <td>0.106163</td>\n",
       "      <td>0.001860</td>\n",
       "      <td>5</td>\n",
       "    </tr>\n",
       "    <tr>\n",
       "      <th>6</th>\n",
       "      <td>0.045700</td>\n",
       "      <td>0.000399</td>\n",
       "      <td>0.020932</td>\n",
       "      <td>0.000240</td>\n",
       "      <td>5</td>\n",
       "      <td>0.001</td>\n",
       "      <td>{'C': 5, 'gamma': 0.001}</td>\n",
       "      <td>0.985185</td>\n",
       "      <td>0.996296</td>\n",
       "      <td>0.992565</td>\n",
       "      <td>0.992565</td>\n",
       "      <td>0.985130</td>\n",
       "      <td>0.990348</td>\n",
       "      <td>0.004452</td>\n",
       "      <td>1</td>\n",
       "    </tr>\n",
       "    <tr>\n",
       "      <th>7</th>\n",
       "      <td>0.215630</td>\n",
       "      <td>0.001593</td>\n",
       "      <td>0.042533</td>\n",
       "      <td>0.000724</td>\n",
       "      <td>5</td>\n",
       "      <td>0.1</td>\n",
       "      <td>{'C': 5, 'gamma': 0.1}</td>\n",
       "      <td>0.107407</td>\n",
       "      <td>0.103704</td>\n",
       "      <td>0.104089</td>\n",
       "      <td>0.107807</td>\n",
       "      <td>0.107807</td>\n",
       "      <td>0.106163</td>\n",
       "      <td>0.001860</td>\n",
       "      <td>5</td>\n",
       "    </tr>\n",
       "    <tr>\n",
       "      <th>8</th>\n",
       "      <td>0.136937</td>\n",
       "      <td>0.000257</td>\n",
       "      <td>0.041439</td>\n",
       "      <td>0.000235</td>\n",
       "      <td>5</td>\n",
       "      <td>5</td>\n",
       "      <td>{'C': 5, 'gamma': 5}</td>\n",
       "      <td>0.107407</td>\n",
       "      <td>0.103704</td>\n",
       "      <td>0.104089</td>\n",
       "      <td>0.107807</td>\n",
       "      <td>0.107807</td>\n",
       "      <td>0.106163</td>\n",
       "      <td>0.001860</td>\n",
       "      <td>5</td>\n",
       "    </tr>\n",
       "    <tr>\n",
       "      <th>9</th>\n",
       "      <td>0.045784</td>\n",
       "      <td>0.000652</td>\n",
       "      <td>0.022265</td>\n",
       "      <td>0.000826</td>\n",
       "      <td>10</td>\n",
       "      <td>0.001</td>\n",
       "      <td>{'C': 10, 'gamma': 0.001}</td>\n",
       "      <td>0.985185</td>\n",
       "      <td>0.996296</td>\n",
       "      <td>0.992565</td>\n",
       "      <td>0.992565</td>\n",
       "      <td>0.985130</td>\n",
       "      <td>0.990348</td>\n",
       "      <td>0.004452</td>\n",
       "      <td>1</td>\n",
       "    </tr>\n",
       "    <tr>\n",
       "      <th>10</th>\n",
       "      <td>0.214800</td>\n",
       "      <td>0.000905</td>\n",
       "      <td>0.041839</td>\n",
       "      <td>0.000110</td>\n",
       "      <td>10</td>\n",
       "      <td>0.1</td>\n",
       "      <td>{'C': 10, 'gamma': 0.1}</td>\n",
       "      <td>0.107407</td>\n",
       "      <td>0.103704</td>\n",
       "      <td>0.104089</td>\n",
       "      <td>0.107807</td>\n",
       "      <td>0.107807</td>\n",
       "      <td>0.106163</td>\n",
       "      <td>0.001860</td>\n",
       "      <td>5</td>\n",
       "    </tr>\n",
       "    <tr>\n",
       "      <th>11</th>\n",
       "      <td>0.136704</td>\n",
       "      <td>0.000406</td>\n",
       "      <td>0.041677</td>\n",
       "      <td>0.000641</td>\n",
       "      <td>10</td>\n",
       "      <td>5</td>\n",
       "      <td>{'C': 10, 'gamma': 5}</td>\n",
       "      <td>0.107407</td>\n",
       "      <td>0.103704</td>\n",
       "      <td>0.104089</td>\n",
       "      <td>0.107807</td>\n",
       "      <td>0.107807</td>\n",
       "      <td>0.106163</td>\n",
       "      <td>0.001860</td>\n",
       "      <td>5</td>\n",
       "    </tr>\n",
       "  </tbody>\n",
       "</table>\n",
       "</div>"
      ],
      "text/plain": [
       "    mean_fit_time  std_fit_time  mean_score_time  std_score_time param_C  \\\n",
       "0        0.087398      0.000533         0.033708        0.000162     0.1   \n",
       "1        0.184407      0.000568         0.042522        0.000555     0.1   \n",
       "2        0.117606      0.000303         0.041518        0.000271     0.1   \n",
       "3        0.046305      0.000918         0.020814        0.000459       2   \n",
       "4        0.216145      0.001558         0.042504        0.000640       2   \n",
       "5        0.137185      0.000816         0.042400        0.001102       2   \n",
       "6        0.045700      0.000399         0.020932        0.000240       5   \n",
       "7        0.215630      0.001593         0.042533        0.000724       5   \n",
       "8        0.136937      0.000257         0.041439        0.000235       5   \n",
       "9        0.045784      0.000652         0.022265        0.000826      10   \n",
       "10       0.214800      0.000905         0.041839        0.000110      10   \n",
       "11       0.136704      0.000406         0.041677        0.000641      10   \n",
       "\n",
       "   param_gamma                      params  split0_test_score  \\\n",
       "0        0.001  {'C': 0.1, 'gamma': 0.001}           0.937037   \n",
       "1          0.1    {'C': 0.1, 'gamma': 0.1}           0.107407   \n",
       "2            5      {'C': 0.1, 'gamma': 5}           0.107407   \n",
       "3        0.001    {'C': 2, 'gamma': 0.001}           0.985185   \n",
       "4          0.1      {'C': 2, 'gamma': 0.1}           0.107407   \n",
       "5            5        {'C': 2, 'gamma': 5}           0.107407   \n",
       "6        0.001    {'C': 5, 'gamma': 0.001}           0.985185   \n",
       "7          0.1      {'C': 5, 'gamma': 0.1}           0.107407   \n",
       "8            5        {'C': 5, 'gamma': 5}           0.107407   \n",
       "9        0.001   {'C': 10, 'gamma': 0.001}           0.985185   \n",
       "10         0.1     {'C': 10, 'gamma': 0.1}           0.107407   \n",
       "11           5       {'C': 10, 'gamma': 5}           0.107407   \n",
       "\n",
       "    split1_test_score  split2_test_score  split3_test_score  \\\n",
       "0            0.962963           0.970260           0.955390   \n",
       "1            0.103704           0.104089           0.107807   \n",
       "2            0.103704           0.104089           0.107807   \n",
       "3            0.996296           0.992565           0.992565   \n",
       "4            0.103704           0.104089           0.107807   \n",
       "5            0.103704           0.104089           0.107807   \n",
       "6            0.996296           0.992565           0.992565   \n",
       "7            0.103704           0.104089           0.107807   \n",
       "8            0.103704           0.104089           0.107807   \n",
       "9            0.996296           0.992565           0.992565   \n",
       "10           0.103704           0.104089           0.107807   \n",
       "11           0.103704           0.104089           0.107807   \n",
       "\n",
       "    split4_test_score  mean_test_score  std_test_score  rank_test_score  \n",
       "0            0.955390         0.956208        0.011063                4  \n",
       "1            0.107807         0.106163        0.001860                5  \n",
       "2            0.107807         0.106163        0.001860                5  \n",
       "3            0.985130         0.990348        0.004452                1  \n",
       "4            0.107807         0.106163        0.001860                5  \n",
       "5            0.107807         0.106163        0.001860                5  \n",
       "6            0.985130         0.990348        0.004452                1  \n",
       "7            0.107807         0.106163        0.001860                5  \n",
       "8            0.107807         0.106163        0.001860                5  \n",
       "9            0.985130         0.990348        0.004452                1  \n",
       "10           0.107807         0.106163        0.001860                5  \n",
       "11           0.107807         0.106163        0.001860                5  "
      ]
     },
     "execution_count": 62,
     "metadata": {},
     "output_type": "execute_result"
    }
   ],
   "source": [
    "pd.DataFrame(grid_pca.cv_results_)"
   ]
  },
  {
   "cell_type": "markdown",
   "metadata": {},
   "source": [
    "## Summary\n",
    "\n",
    "Well done! In this lab, you employed PCA to reduce a high dimensional dataset. With this, you observed the potential cost benefits required to train a model and performance gains of the model itself."
   ]
  }
 ],
 "metadata": {
  "kernelspec": {
   "display_name": "Python 3",
   "language": "python",
   "name": "python3"
  },
  "language_info": {
   "codemirror_mode": {
    "name": "ipython",
    "version": 3
   },
   "file_extension": ".py",
   "mimetype": "text/x-python",
   "name": "python",
   "nbconvert_exporter": "python",
   "pygments_lexer": "ipython3",
   "version": "3.8.5"
  },
  "latex_envs": {
   "LaTeX_envs_menu_present": true,
   "autoclose": false,
   "autocomplete": true,
   "bibliofile": "biblio.bib",
   "cite_by": "apalike",
   "current_citInitial": 1,
   "eqLabelWithNumbers": true,
   "eqNumInitial": 1,
   "hotkeys": {
    "equation": "Ctrl-E",
    "itemize": "Ctrl-I"
   },
   "labels_anchors": false,
   "latex_user_defs": false,
   "report_style_numbering": false,
   "user_envs_cfg": false
  },
  "toc": {
   "base_numbering": 1,
   "nav_menu": {},
   "number_sections": true,
   "sideBar": true,
   "skip_h1_title": false,
   "title_cell": "Table of Contents",
   "title_sidebar": "Contents",
   "toc_cell": false,
   "toc_position": {},
   "toc_section_display": true,
   "toc_window_display": false
  },
  "varInspector": {
   "cols": {
    "lenName": 16,
    "lenType": 16,
    "lenVar": 40
   },
   "kernels_config": {
    "python": {
     "delete_cmd_postfix": "",
     "delete_cmd_prefix": "del ",
     "library": "var_list.py",
     "varRefreshCmd": "print(var_dic_list())"
    },
    "r": {
     "delete_cmd_postfix": ") ",
     "delete_cmd_prefix": "rm(",
     "library": "var_list.r",
     "varRefreshCmd": "cat(var_dic_list()) "
    }
   },
   "types_to_exclude": [
    "module",
    "function",
    "builtin_function_or_method",
    "instance",
    "_Feature"
   ],
   "window_display": false
  }
 },
 "nbformat": 4,
 "nbformat_minor": 2
}
